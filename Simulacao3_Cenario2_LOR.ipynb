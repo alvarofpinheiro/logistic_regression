{
  "nbformat": 4,
  "nbformat_minor": 0,
  "metadata": {
    "colab": {
      "name": "Simulacao3_Cenario2_LOR.ipynb",
      "provenance": [],
      "collapsed_sections": []
    },
    "kernelspec": {
      "name": "python3",
      "display_name": "Python 3"
    }
  },
  "cells": [
    {
      "cell_type": "markdown",
      "source": [
        "Trata-se de um modelo estatístico desenvolvido na década de 1960 para determinar a probabilidade de um evento acontecer, fazendo uso de recursos para prever um saída binária, sendo usado no Machine Learning para análise preditiva. Uma das publicações mais importantes sobre o modelo foi realizada em 1958 por David Cox com o artigo “A Análise de Regressão de Sequências Binárias”.\n",
        "\n",
        "Cox, D.R. The Regression Analysis of Binary Sequences. Journal of the Royal Statistical Society. Series B (Methodological) Vol. 20, No. 2 (1958), pp. 215-242 (28 pages) Published By: Wiley. http://www.jstor.org/stable/2983890, 1958.\n",
        "\n",
        "Explicação do algoritmo LOR: "
      ],
      "metadata": {
        "id": "-zwr2BqH2eAg"
      }
    },
    {
      "cell_type": "code",
      "metadata": {
        "id": "0P6tBY50QOHR"
      },
      "source": [
        "#instalar biblioteca Orange Canvas\n",
        "!pip install Orange3"
      ],
      "execution_count": null,
      "outputs": []
    },
    {
      "cell_type": "code",
      "source": [
        "#importar biblioteca Orange Canvas\n",
        "import Orange"
      ],
      "metadata": {
        "id": "1MF20XTJ_Aa_"
      },
      "execution_count": null,
      "outputs": []
    },
    {
      "cell_type": "code",
      "source": [
        "#importar dados do disco local\n",
        "from google.colab import files  \n",
        "files.upload()"
      ],
      "metadata": {
        "id": "Ygu12JE_Afct"
      },
      "execution_count": null,
      "outputs": []
    },
    {
      "cell_type": "code",
      "source": [
        "#instanciar objeto de dados com base no caminho gerado com a importação do arquivo\n",
        "dados = Orange.data.Table(\"/content/Simulacao-1.csv\")"
      ],
      "metadata": {
        "id": "Uid5eSz5Fiwi"
      },
      "execution_count": null,
      "outputs": []
    },
    {
      "cell_type": "code",
      "source": [
        "#imprimir os primeiros 5 registros\n",
        "for d in dados[:5]:\n",
        "  print(d)"
      ],
      "metadata": {
        "id": "ar06vvffknDu"
      },
      "execution_count": null,
      "outputs": []
    },
    {
      "cell_type": "code",
      "source": [
        "#explorar os metadados\n",
        "qtde_campos = len(dados.domain.attributes)\n",
        "qtde_cont = sum(1 for a in dados.domain.attributes if a.is_continuous)\n",
        "qtde_disc = sum(1 for a in dados.domain.attributes if a.is_discrete)\n",
        "print(\"%d metadados: %d continuos, %d discretos\" % (qtde_campos, qtde_cont, qtde_disc))\n",
        "print(\"Nome dos metadados:\", \", \".join(dados.domain.attributes[i].name for i in range(qtde_campos)),)"
      ],
      "metadata": {
        "id": "H5nbZkd6rDHS"
      },
      "execution_count": null,
      "outputs": []
    },
    {
      "cell_type": "code",
      "source": [
        "#explorar domínios\n",
        "dados.domain.attributes"
      ],
      "metadata": {
        "id": "J5VmTPgks2w5"
      },
      "execution_count": null,
      "outputs": []
    },
    {
      "cell_type": "code",
      "source": [
        "#explorar classe\n",
        "dados.domain.class_var"
      ],
      "metadata": {
        "id": "I3P5bR1Bts-m"
      },
      "execution_count": null,
      "outputs": []
    },
    {
      "cell_type": "code",
      "source": [
        "#explorar dados\n",
        "print(\"Campos:\", \", \".join(c.name for c in dados.domain.attributes))\n",
        "print(\"Registros:\", len(dados))\n",
        "print(\"Valor do registro 1 da coluna 1:\", dados[0][0])\n",
        "print(\"Valor do registro 2 da coluna 2:\", dados[1][1])"
      ],
      "metadata": {
        "id": "g36bj2VTuNXm"
      },
      "execution_count": null,
      "outputs": []
    },
    {
      "cell_type": "code",
      "source": [
        "#criar amostra\n",
        "qtde100 = len(dados)\n",
        "qtde70 = len(dados) * 70 / 100\n",
        "qtde30 = len(dados) * 30 / 100\n",
        "print(\"Qtde 100%:\", qtde100)\n",
        "print(\"Qtde  70%:\", qtde70)\n",
        "print(\"Qtde  30%:\", qtde30)\n",
        "amostra = Orange.data.Table(dados.domain, [d for d in dados if d.row_index < qtde70])\n",
        "print(\"Registros:\", len(dados))\n",
        "print(\"Registros:\", len(amostra))"
      ],
      "metadata": {
        "id": "Ds75Qk7vusPK"
      },
      "execution_count": null,
      "outputs": []
    },
    {
      "cell_type": "markdown",
      "source": [
        "**Hiperparâmetros**\n",
        "\n",
        "penalty='l2' - processo que altera a resposta do resultado para ser “mais simples”, sendo frequentemente usado para obter resultados para problemas mal colocados ou para evitar overfitting. Podendo ser l1 - alternativa de mínimos quadrados é Lasso (operador de seleção e contração pelo menos absoluto) ou l2 - \n",
        "\n",
        "\n",
        "dual=False\n",
        "\n",
        "tol=0.0001\n",
        "\n",
        "C=1.0\n",
        "\n",
        "fit_intercept=True\n",
        "\n",
        "intercept_scaling=1\n",
        "\n",
        "class_weight=None\n",
        "\n",
        "random_state=None\n",
        "\n",
        "solver='auto'\n",
        "\n",
        "max_iter=100\n",
        "\n",
        "multi_class='auto'\n",
        "\n",
        "verbose=0\n",
        "\n",
        "n_jobs=1\n",
        "\n",
        "preprocessors=None - é usado o pré-processamento padrão quando nenhum outro pré-processador é fornecido. Ele os executa na seguinte ordem: remove instâncias com valores de destino desconhecidos; continua variáveis categóricas (com codificação one-hot); remove colunas vazias; imputa valores ausentes com valores médios."
      ],
      "metadata": {
        "id": "QzDzhEhoKHAC"
      }
    },
    {
      "cell_type": "code",
      "source": [
        "#Técnica Logistic Regression (LOR)\n",
        "lor = Orange.classification.LogisticRegressionLearner(\n",
        "    penalty='l2', \n",
        "    dual=False, \n",
        "    tol=0.0001, \n",
        "    C=1.0, \n",
        "    fit_intercept=True, \n",
        "    intercept_scaling=1, \n",
        "    class_weight=None, \n",
        "    random_state=None, \n",
        "    solver='auto', \n",
        "    max_iter=100, \n",
        "    multi_class='auto', \n",
        "    verbose=0, \n",
        "    n_jobs=1, \n",
        "    preprocessors=None)"
      ],
      "metadata": {
        "id": "RbAJ44FgLM00"
      },
      "execution_count": null,
      "outputs": []
    },
    {
      "cell_type": "code",
      "source": [
        "#ligar técnica LOR aos dados\n",
        "dados_lor = lor(dados)"
      ],
      "metadata": {
        "id": "bmlBAnbmMKd-"
      },
      "execution_count": null,
      "outputs": []
    },
    {
      "cell_type": "code",
      "source": [
        "#treinar e testar técnica LOR com os dados\n",
        "avalia_lor = Orange.evaluation.CrossValidation(dados, [lor], k=5)"
      ],
      "metadata": {
        "id": "_vNTaCAHS5bk"
      },
      "execution_count": null,
      "outputs": []
    },
    {
      "cell_type": "markdown",
      "source": [
        "**Validação**\n",
        "\n",
        "Para validação dos algoritmos de aprendizado de máquina utilizados nas simulações, foram usadas as métricas de classificação e predição e para entende-las segue explicação:\n",
        "\n",
        "Verdadeiros Positivos (VP) testes que passam como esperado;\n",
        "\n",
        "Verdadeiros Negativos (VN) testes que falham devido a falhas reais;\n",
        "\n",
        "Falsos Positivos (FP) testes que passam, mas não deveriam passar; e,\n",
        "\n",
        "Falsos Negativos (FN) testes que falham devido à inconsistência no teste.\n",
        "\n",
        "Para avaliar a assertividade e a regularidade as métricas utilizadas foram:\n",
        "\n",
        "Acurácia A =  (VP+VN) / (VP+VN+FP+FN);\n",
        "\n",
        "Precisão P = (VP) / (VP + FP);\n",
        "\n",
        "Revocação R = (VP) / (VP + FN); e,\n",
        "\n",
        "F1 F = 2 * ((Precisão * Revocação) / (Precisão + Revocação)).\n",
        "\n",
        "Para avaliar a previsibilidade e a probabilidade também pode se usar:\n",
        "\n",
        "Característica de Operação do Receptor na sigla em inglês (ROC), métrica para comparar o desempenho dos modelos, representados pela área sob a curva ROC, que é traçada como um diagrama de VP em função da relação FP, que quanto mais perto o valor for de 1, melhor o desempenho.\n"
      ],
      "metadata": {
        "id": "8D-d7a9JIzaj"
      }
    },
    {
      "cell_type": "code",
      "source": [
        "#avaliar os indicadores para o LOR\n",
        "print(\"Acurácia:  %.3f\" % Orange.evaluation.scoring.CA(avalia_lor)[0])\n",
        "print(\"Precisão:  %.3f\" % Orange.evaluation.scoring.Precision(avalia_lor)[0])\n",
        "print(\"Revocação: %.3f\" % Orange.evaluation.scoring.Recall(avalia_lor)[0])\n",
        "print(\"F1:        %.3f\" % Orange.evaluation.scoring.F1(avalia_lor)[0])\n",
        "print(\"ROC:       %.3f\" % Orange.evaluation.scoring.AUC(avalia_lor)[0])"
      ],
      "metadata": {
        "id": "dtxG4yrDTAtv"
      },
      "execution_count": null,
      "outputs": []
    },
    {
      "cell_type": "code",
      "source": [
        "#comparar a técnica LOR com outras 2 técnicas\n",
        "svm = Orange.classification.SVMLearner(C=1.0, kernel='rbf', degree=3, gamma='auto', coef0=0.0, shrinking=True, probability=False, tol=0.001, cache_size=200, max_iter=-1, preprocessors=None)\n",
        "mlp = Orange.classification.NNClassificationLearner(hidden_layer_sizes=(100,), activation='relu', solver='adam', alpha=0.0001, batch_size='auto', learning_rate='constant', learning_rate_init=0.001, power_t=0.5, max_iter=200, shuffle=True, random_state=None, tol=0.0001, verbose=False, warm_start=False, momentum=0.9, nesterovs_momentum=True, early_stopping=False, validation_fraction=0.1, beta_1=0.9, beta_2=0.999, epsilon=1e-08, preprocessors=None)\n",
        "dados_svm = svm(dados)\n",
        "dados_mlp = mlp(dados)\n",
        "aprendizado = [lor, svm, mlp]\n",
        "avaliacao = Orange.evaluation.CrossValidation(dados, aprendizado, k=5)"
      ],
      "metadata": {
        "id": "ihR-hUDCazin"
      },
      "execution_count": null,
      "outputs": []
    },
    {
      "cell_type": "code",
      "source": [
        "#imprimir os indicadores para as 3 técnicas\n",
        "print(\" \" * 10 + \" | \".join(\"%-4s\" % learner.name for learner in aprendizado))\n",
        "print(\"Acurácia  %s\" % \" | \".join(\"%.2f\" % s for s in Orange.evaluation.CA(avaliacao)))\n",
        "print(\"Precisão  %s\" % \" | \".join(\"%.2f\" % s for s in Orange.evaluation.Precision(avaliacao)))\n",
        "print(\"Revocação %s\" % \" | \".join(\"%.2f\" % s for s in Orange.evaluation.Recall(avaliacao)))\n",
        "print(\"F1        %s\" % \" | \".join(\"%.2f\" % s for s in Orange.evaluation.F1(avaliacao)))\n",
        "print(\"ROC       %s\" % \" | \".join(\"%.2f\" % s for s in Orange.evaluation.AUC(avaliacao)))"
      ],
      "metadata": {
        "id": "MQn6ppBIfamY"
      },
      "execution_count": null,
      "outputs": []
    }
  ]
}